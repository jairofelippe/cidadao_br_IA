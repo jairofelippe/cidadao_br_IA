{
  "nbformat": 4,
  "nbformat_minor": 0,
  "metadata": {
    "colab": {
      "provenance": [],
      "authorship_tag": "ABX9TyNxooQP4ujX0APJdl4Zx/K9",
      "include_colab_link": true
    },
    "kernelspec": {
      "name": "python3",
      "display_name": "Python 3"
    },
    "language_info": {
      "name": "python"
    }
  },
  "cells": [
    {
      "cell_type": "markdown",
      "metadata": {
        "id": "view-in-github",
        "colab_type": "text"
      },
      "source": [
        "<a href=\"https://colab.research.google.com/github/jairofelippe/cidadao_br_IA/blob/main/cidadao_br_IA.ipynb\" target=\"_parent\"><img src=\"https://colab.research.google.com/assets/colab-badge.svg\" alt=\"Open In Colab\"/></a>"
      ]
    },
    {
      "cell_type": "code",
      "execution_count": 13,
      "metadata": {
        "id": "Dt1TcYsDdAyO"
      },
      "outputs": [],
      "source": [
        "!pip install -q -U google-generativeai"
      ]
    },
    {
      "cell_type": "code",
      "source": [
        "import google.generativeai as genai\n",
        "from google.colab import userdata\n",
        "api_Key = userdata.get('SECRET_KEY')\n",
        "genai.configure(api_key=api_Key)"
      ],
      "metadata": {
        "id": "WWRb7VxYiSi9"
      },
      "execution_count": 14,
      "outputs": []
    },
    {
      "cell_type": "code",
      "source": [
        "for m in genai.list_models():\n",
        "    if 'generateContent' in m.supported_generation_methods:\n",
        "      print(m.name)"
      ],
      "metadata": {
        "colab": {
          "base_uri": "https://localhost:8080/",
          "height": 139
        },
        "collapsed": true,
        "id": "Pb3FYmw0W2XE",
        "outputId": "16205455-c143-4441-832e-75a103ccf3e9"
      },
      "execution_count": 15,
      "outputs": [
        {
          "output_type": "stream",
          "name": "stdout",
          "text": [
            "models/gemini-1.0-pro\n",
            "models/gemini-1.0-pro-001\n",
            "models/gemini-1.0-pro-latest\n",
            "models/gemini-1.0-pro-vision-latest\n",
            "models/gemini-1.5-pro-latest\n",
            "models/gemini-pro\n",
            "models/gemini-pro-vision\n"
          ]
        }
      ]
    },
    {
      "cell_type": "code",
      "source": [
        "generation_config = {\n",
        "    \"candidate_count\": 1,\n",
        "    \"temperature\" : 0.5,\n",
        "    }"
      ],
      "metadata": {
        "id": "sNtOoR_ypm74"
      },
      "execution_count": 16,
      "outputs": []
    },
    {
      "cell_type": "code",
      "source": [
        "safety_settings = {\n",
        "    \"HARASSMENT\": \"BLOCK_NONE\",\n",
        "    \"HATE\": \"BLOCK_NONE\",\n",
        "    \"SEXUAL\": \"BLOCK_NONE\",\n",
        "    \"DANGEROUS\": \"BLOCK_NONE\",\n",
        "    }"
      ],
      "metadata": {
        "id": "N3QzGTt7T0Sx"
      },
      "execution_count": 21,
      "outputs": []
    },
    {
      "cell_type": "code",
      "source": [
        "model = genai.GenerativeModel(model_name=\"gemini-1.0-pro\",\n",
        "                              generation_config=generation_config,\n",
        "                              safety_settings=safety_settings)"
      ],
      "metadata": {
        "id": "xCiFTkLtUwmf"
      },
      "execution_count": 22,
      "outputs": []
    },
    {
      "cell_type": "code",
      "source": [
        "response = model.generate_content(\"Vamos aprender conteúdo sobre IA. Me dê sugestões: \")\n",
        "print(response.text)\n"
      ],
      "metadata": {
        "colab": {
          "base_uri": "https://localhost:8080/",
          "height": 659
        },
        "collapsed": true,
        "id": "LpiqbfeQZ1HT",
        "outputId": "8b70613a-237f-4229-e530-d0ec376716f1"
      },
      "execution_count": 24,
      "outputs": [
        {
          "output_type": "stream",
          "name": "stdout",
          "text": [
            "**Conceitos Fundamentais de IA:**\n",
            "\n",
            "* Definição de Inteligência Artificial (IA)\n",
            "* Tipos de IA: Aprendizado de Máquina, Aprendizado Profundo, Processamento de Linguagem Natural\n",
            "* Algoritmos de IA: Regressão, Classificação, Agrupamento\n",
            "\n",
            "**Aprendizado de Máquina (ML):**\n",
            "\n",
            "* Conceitos de ML: Dados, Modelos, Treinamento, Avaliação\n",
            "* Tipos de aprendizado de máquina: Supervisionado, Não Supervisionado, por Reforço\n",
            "* Algoritmos de ML: Regressão Linear, Árvore de Decisão, Máquina de Vetores de Suporte\n",
            "\n",
            "**Aprendizado Profundo (DL):**\n",
            "\n",
            "* Conceitos de DL: Redes Neurais, Camadas, Funções de Ativação\n",
            "* Tipos de redes neurais: Convolucionais, Recorrentes, Autocodificadores\n",
            "* Aplicações de DL: Visão Computacional, Processamento de Linguagem Natural\n",
            "\n",
            "**Processamento de Linguagem Natural (PNL):**\n",
            "\n",
            "* Conceitos de PNL: Tokenização, Stemming, Lematização\n",
            "* Técnicas de PNL: Análise de Sentimentos, Classificação de Texto, Geração de Linguagem\n",
            "* Aplicações de PNL: Chatbots, Tradução Automática\n",
            "\n",
            "**Aplicações da IA:**\n",
            "\n",
            "* Visão Computacional: Reconhecimento Facial, Detecção de Objetos\n",
            "* Processamento de Linguagem Natural: Tradução Automática, Resumo de Texto\n",
            "* Medicina: Diagnóstico de Doenças, Previsão de Riscos\n",
            "* Finanças: Detecção de Fraude, Previsão de Mercado\n",
            "* Transporte: Veículos Autônomos, Otimização de Rotas\n",
            "\n",
            "**Ética e Implicações da IA:**\n",
            "\n",
            "* Preocupações Éticas: Viés, Privacidade, Desemprego\n",
            "* Regulamentações e Diretrizes: Princípios Éticos para IA, Regulamentos de Proteção de Dados\n",
            "* O Futuro da IA: Tendências, Desafios e Oportunidades\n"
          ]
        }
      ]
    },
    {
      "cell_type": "code",
      "source": [
        "chat = model.start_chat(history=[])"
      ],
      "metadata": {
        "id": "u0nTeujsb_21"
      },
      "execution_count": 25,
      "outputs": []
    },
    {
      "cell_type": "code",
      "source": [
        "\n"
      ],
      "metadata": {
        "id": "YJJGa5ApkZjd"
      },
      "execution_count": 34,
      "outputs": []
    },
    {
      "cell_type": "code",
      "source": [
        "nome_usuario = input(\"Digite seu nome aqui: \")\n",
        "print(f\"Olá\" , nome_usuario,\"!gratificante ter você aqui!\" )\n"
      ],
      "metadata": {
        "colab": {
          "base_uri": "https://localhost:8080/"
        },
        "id": "R1h5Uyhnr9KI",
        "outputId": "6f78b450-6119-4f0c-d92f-b9eccc7a7861"
      },
      "execution_count": 49,
      "outputs": [
        {
          "output_type": "stream",
          "name": "stdout",
          "text": [
            "Digite seu nome aqui: Jairo\n",
            "Olá Jairo ! gratificante ter você aqui!\n"
          ]
        }
      ]
    },
    {
      "cell_type": "code",
      "source": [
        "print( nome_usuario, \"Antes de começar, gostaria de dizer algumas dicas sobre nossa plataforma:\")"
      ],
      "metadata": {
        "colab": {
          "base_uri": "https://localhost:8080/"
        },
        "id": "p1cM--DctLhr",
        "outputId": "bd48d0b4-2c5e-4d01-accd-11d185c080e7"
      },
      "execution_count": 55,
      "outputs": [
        {
          "output_type": "stream",
          "name": "stdout",
          "text": [
            "Jairo Antes de começar, gostaria de dizer algumas dicas sobre nossa plataforma:\n"
          ]
        }
      ]
    },
    {
      "cell_type": "code",
      "source": [
        "print('Nosso objetivo aqui é poder unicamente te ajudar em assuntos jurídicos os quais estão no nosso cotidiano.\\n ')"
      ],
      "metadata": {
        "colab": {
          "base_uri": "https://localhost:8080/"
        },
        "id": "tAtJyNeztx9Z",
        "outputId": "320e33ab-ada8-481e-af6a-c0e9db57220a"
      },
      "execution_count": 57,
      "outputs": [
        {
          "output_type": "stream",
          "name": "stdout",
          "text": [
            "Nosso objetivo aqui é poder unicamente te ajudar em assuntos jurídicos os quais estão no nosso cotidiano.\n",
            " \n"
          ]
        }
      ]
    },
    {
      "cell_type": "code",
      "source": [
        "print(\"Então vamos lá\", nome_usuario,\"!\")"
      ],
      "metadata": {
        "colab": {
          "base_uri": "https://localhost:8080/"
        },
        "id": "vT_-JGLl0cgN",
        "outputId": "1370d300-713c-40ca-edbb-78d9a1cc85e2"
      },
      "execution_count": 65,
      "outputs": [
        {
          "output_type": "stream",
          "name": "stdout",
          "text": [
            "Então vamos lá Jairo !\n"
          ]
        }
      ]
    },
    {
      "cell_type": "code",
      "source": [
        "\n",
        "print(\"!!! Caso queira finalizar o dialogo digite:!!! 'fim' \")\n",
        "\n",
        "prompt = input(\"Enorme prazer em poder te ajudar! diga algo: \")\n",
        "\n",
        "\n",
        "while prompt != \"fim\":\n",
        "  response = chat.send_message(prompt)\n",
        "  print(\"Resposta: \", response.text, \"\\n\" )\n",
        "\n",
        "  prompt = input(\" Digite aqui de que precisa saber: \")\n",
        "\n",
        "import pathlib\n",
        "import textwrap\n",
        "\n",
        "from IPython.display import display\n",
        "from IPython.display import Markdown\n",
        "\n",
        "\n",
        "def to_markdown(text):\n",
        "  text = text.replace('•', '  *')\n",
        "  return Markdown(textwrap.indent(text, '> ', predicate=lambda _: True))\n",
        "\n",
        "for message in chat.history:\n",
        "  display(to_markdown(f'**{message.role}**: {message.parts[0].text}'))\n",
        "  print('--------------------------------------------')\n"
      ],
      "metadata": {
        "colab": {
          "base_uri": "https://localhost:8080/",
          "height": 1000
        },
        "collapsed": true,
        "id": "iWttlRiDcZH2",
        "outputId": "2452cd35-b6f4-44bb-8ec1-711cfbd57aa0"
      },
      "execution_count": 74,
      "outputs": [
        {
          "name": "stdout",
          "output_type": "stream",
          "text": [
            "!!! Caso queira finalizar o dialogo digite:!!! 'fim' \n",
            "Enorme prazer em poder te ajudar! diga algo: fim\n"
          ]
        },
        {
          "output_type": "display_data",
          "data": {
            "text/plain": [
              "<IPython.core.display.Markdown object>"
            ],
            "text/markdown": "> **user**: comprei protudo estragado o que fazer"
          },
          "metadata": {}
        },
        {
          "output_type": "stream",
          "name": "stdout",
          "text": [
            "--------------------------------------------\n"
          ]
        },
        {
          "output_type": "display_data",
          "data": {
            "text/plain": [
              "<IPython.core.display.Markdown object>"
            ],
            "text/markdown": "> **model**: **Passos a seguir quando você compra um produto estragado:**\n> \n> 1. **Documente o problema:** Tire fotos ou vídeos do produto estragado, incluindo a embalagem e o recibo de compra.\n> 2. **Entre em contato com o vendedor:** Informe o vendedor sobre o produto estragado e forneça a documentação. Explique o problema claramente e solicite uma solução.\n> 3. **Seja específico sobre a solução:** Indique a solução desejada, como reembolso, troca ou reparo.\n> 4. **Seja paciente e persistente:** Pode levar algum tempo para o vendedor responder ou resolver o problema. Acompanhe regularmente e não desista.\n> 5. **Verifique a política de devolução:** Leia a política de devolução do vendedor para entender seus direitos e responsabilidades.\n> 6. **Considere a arbitragem:** Se você não conseguir resolver o problema diretamente com o vendedor, considere entrar em contato com uma agência de arbitragem, como o Better Business Bureau ou a Comissão Federal de Comércio.\n> 7. **Deixe uma avaliação:** Compartilhe sua experiência com outros consumidores deixando uma avaliação online na plataforma onde você comprou o produto.\n> 8. **Proteja seus direitos:** Se necessário, consulte um advogado para discutir suas opções legais.\n> \n> **Dicas adicionais:**\n> \n> * Mantenha a calma e seja cortês ao entrar em contato com o vendedor.\n> * Forneça todas as informações relevantes, incluindo o número do pedido, data da compra e detalhes do produto.\n> * Esteja preparado para negociar uma solução que seja justa para ambas as partes.\n> * Guarde toda a correspondência relacionada ao problema."
          },
          "metadata": {}
        },
        {
          "output_type": "stream",
          "name": "stdout",
          "text": [
            "--------------------------------------------\n"
          ]
        },
        {
          "output_type": "display_data",
          "data": {
            "text/plain": [
              "<IPython.core.display.Markdown object>"
            ],
            "text/markdown": "> **user**: como se fala oucura em ingles"
          },
          "metadata": {}
        },
        {
          "output_type": "stream",
          "name": "stdout",
          "text": [
            "--------------------------------------------\n"
          ]
        },
        {
          "output_type": "display_data",
          "data": {
            "text/plain": [
              "<IPython.core.display.Markdown object>"
            ],
            "text/markdown": "> **model**: **Loucura** em inglês é **madness**.\n> \n> Outras palavras relacionadas à loucura em inglês:\n> \n> * **Insanity**\n> * **Lunacy**\n> * **Craziness**\n> * **Derangement**\n> * **Mania**\n> * **Psychosis**\n> * **Schizophrenia**\n> * **Delirium**\n> * **Dementia**\n> * **Bipolar disorder**\n> * **Obsessive-compulsive disorder (OCD)**\n> * **Anxiety disorder**\n> * **Depression**\n> \n> **Exemplos de uso:**\n> \n> * \"Her madness was evident in her wild eyes and incoherent speech.\" (A loucura dela era evidente em seus olhos selvagens e discurso incoerente.)\n> * \"The doctor diagnosed him with insanity after he exhibited bizarre and dangerous behavior.\" (O médico diagnosticou-o com insanidade depois que ele exibiu comportamento bizarro e perigoso.)\n> * \"The stress of the job drove her to the brink of madness.\" (O estresse do trabalho a levou à beira da loucura.)"
          },
          "metadata": {}
        },
        {
          "output_type": "stream",
          "name": "stdout",
          "text": [
            "--------------------------------------------\n"
          ]
        },
        {
          "output_type": "display_data",
          "data": {
            "text/plain": [
              "<IPython.core.display.Markdown object>"
            ],
            "text/markdown": "> **user**: olá boa noite"
          },
          "metadata": {}
        },
        {
          "output_type": "stream",
          "name": "stdout",
          "text": [
            "--------------------------------------------\n"
          ]
        },
        {
          "output_type": "display_data",
          "data": {
            "text/plain": [
              "<IPython.core.display.Markdown object>"
            ],
            "text/markdown": "> **model**: Olá, boa noite! Como posso ajudá-lo hoje?"
          },
          "metadata": {}
        },
        {
          "output_type": "stream",
          "name": "stdout",
          "text": [
            "--------------------------------------------\n"
          ]
        },
        {
          "output_type": "display_data",
          "data": {
            "text/plain": [
              "<IPython.core.display.Markdown object>"
            ],
            "text/markdown": "> **user**: olá"
          },
          "metadata": {}
        },
        {
          "output_type": "stream",
          "name": "stdout",
          "text": [
            "--------------------------------------------\n"
          ]
        },
        {
          "output_type": "display_data",
          "data": {
            "text/plain": [
              "<IPython.core.display.Markdown object>"
            ],
            "text/markdown": "> **model**: Olá! Como posso ajudá-lo hoje?"
          },
          "metadata": {}
        },
        {
          "output_type": "stream",
          "name": "stdout",
          "text": [
            "--------------------------------------------\n"
          ]
        },
        {
          "output_type": "display_data",
          "data": {
            "text/plain": [
              "<IPython.core.display.Markdown object>"
            ],
            "text/markdown": "> **user**: olá"
          },
          "metadata": {}
        },
        {
          "output_type": "stream",
          "name": "stdout",
          "text": [
            "--------------------------------------------\n"
          ]
        },
        {
          "output_type": "display_data",
          "data": {
            "text/plain": [
              "<IPython.core.display.Markdown object>"
            ],
            "text/markdown": "> **model**: Olá! Como posso ajudá-lo hoje?"
          },
          "metadata": {}
        },
        {
          "output_type": "stream",
          "name": "stdout",
          "text": [
            "--------------------------------------------\n"
          ]
        },
        {
          "output_type": "display_data",
          "data": {
            "text/plain": [
              "<IPython.core.display.Markdown object>"
            ],
            "text/markdown": "> **user**: oi"
          },
          "metadata": {}
        },
        {
          "output_type": "stream",
          "name": "stdout",
          "text": [
            "--------------------------------------------\n"
          ]
        },
        {
          "output_type": "display_data",
          "data": {
            "text/plain": [
              "<IPython.core.display.Markdown object>"
            ],
            "text/markdown": "> **model**: Oi! Como posso ajudá-lo hoje?"
          },
          "metadata": {}
        },
        {
          "output_type": "stream",
          "name": "stdout",
          "text": [
            "--------------------------------------------\n"
          ]
        },
        {
          "output_type": "display_data",
          "data": {
            "text/plain": [
              "<IPython.core.display.Markdown object>"
            ],
            "text/markdown": "> **user**: uau"
          },
          "metadata": {}
        },
        {
          "output_type": "stream",
          "name": "stdout",
          "text": [
            "--------------------------------------------\n"
          ]
        },
        {
          "output_type": "display_data",
          "data": {
            "text/plain": [
              "<IPython.core.display.Markdown object>"
            ],
            "text/markdown": "> **model**: Uau, o que há de tão surpreendente?"
          },
          "metadata": {}
        },
        {
          "output_type": "stream",
          "name": "stdout",
          "text": [
            "--------------------------------------------\n"
          ]
        },
        {
          "output_type": "display_data",
          "data": {
            "text/plain": [
              "<IPython.core.display.Markdown object>"
            ],
            "text/markdown": "> **user**: hoje é mue aniversario"
          },
          "metadata": {}
        },
        {
          "output_type": "stream",
          "name": "stdout",
          "text": [
            "--------------------------------------------\n"
          ]
        },
        {
          "output_type": "display_data",
          "data": {
            "text/plain": [
              "<IPython.core.display.Markdown object>"
            ],
            "text/markdown": "> **model**: Feliz aniversário! Que dia especial. O que você está fazendo para comemorar?"
          },
          "metadata": {}
        },
        {
          "output_type": "stream",
          "name": "stdout",
          "text": [
            "--------------------------------------------\n"
          ]
        },
        {
          "output_type": "display_data",
          "data": {
            "text/plain": [
              "<IPython.core.display.Markdown object>"
            ],
            "text/markdown": "> **user**: ola"
          },
          "metadata": {}
        },
        {
          "output_type": "stream",
          "name": "stdout",
          "text": [
            "--------------------------------------------\n"
          ]
        },
        {
          "output_type": "display_data",
          "data": {
            "text/plain": [
              "<IPython.core.display.Markdown object>"
            ],
            "text/markdown": "> **model**: Olá! Como posso ajudá-lo hoje?"
          },
          "metadata": {}
        },
        {
          "output_type": "stream",
          "name": "stdout",
          "text": [
            "--------------------------------------------\n"
          ]
        },
        {
          "output_type": "display_data",
          "data": {
            "text/plain": [
              "<IPython.core.display.Markdown object>"
            ],
            "text/markdown": "> **user**: olá"
          },
          "metadata": {}
        },
        {
          "output_type": "stream",
          "name": "stdout",
          "text": [
            "--------------------------------------------\n"
          ]
        },
        {
          "output_type": "display_data",
          "data": {
            "text/plain": [
              "<IPython.core.display.Markdown object>"
            ],
            "text/markdown": "> **model**: Olá! Como posso ajudá-lo hoje?"
          },
          "metadata": {}
        },
        {
          "output_type": "stream",
          "name": "stdout",
          "text": [
            "--------------------------------------------\n"
          ]
        },
        {
          "output_type": "display_data",
          "data": {
            "text/plain": [
              "<IPython.core.display.Markdown object>"
            ],
            "text/markdown": "> **user**: olá"
          },
          "metadata": {}
        },
        {
          "output_type": "stream",
          "name": "stdout",
          "text": [
            "--------------------------------------------\n"
          ]
        },
        {
          "output_type": "display_data",
          "data": {
            "text/plain": [
              "<IPython.core.display.Markdown object>"
            ],
            "text/markdown": "> **model**: Olá! Como posso ajudá-lo hoje?"
          },
          "metadata": {}
        },
        {
          "output_type": "stream",
          "name": "stdout",
          "text": [
            "--------------------------------------------\n"
          ]
        },
        {
          "output_type": "display_data",
          "data": {
            "text/plain": [
              "<IPython.core.display.Markdown object>"
            ],
            "text/markdown": "> **user**: olá hahaha"
          },
          "metadata": {}
        },
        {
          "output_type": "stream",
          "name": "stdout",
          "text": [
            "--------------------------------------------\n"
          ]
        },
        {
          "output_type": "display_data",
          "data": {
            "text/plain": [
              "<IPython.core.display.Markdown object>"
            ],
            "text/markdown": "> **model**: Olá! Por que você está rindo?"
          },
          "metadata": {}
        },
        {
          "output_type": "stream",
          "name": "stdout",
          "text": [
            "--------------------------------------------\n"
          ]
        }
      ]
    }
  ]
}